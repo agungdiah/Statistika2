{
 "cells": [
  {
   "cell_type": "code",
   "execution_count": 2,
   "id": "f8c9eec3",
   "metadata": {},
   "outputs": [],
   "source": [
    "import pandas as pd\n",
    "import numpy as np\n",
    "from matplotlib import pyplot as plt"
   ]
  },
  {
   "cell_type": "code",
   "execution_count": 4,
   "id": "1b1b115d",
   "metadata": {
    "scrolled": false
   },
   "outputs": [
    {
     "data": {
      "text/html": [
       "<div>\n",
       "<style scoped>\n",
       "    .dataframe tbody tr th:only-of-type {\n",
       "        vertical-align: middle;\n",
       "    }\n",
       "\n",
       "    .dataframe tbody tr th {\n",
       "        vertical-align: top;\n",
       "    }\n",
       "\n",
       "    .dataframe thead th {\n",
       "        text-align: right;\n",
       "    }\n",
       "</style>\n",
       "<table border=\"1\" class=\"dataframe\">\n",
       "  <thead>\n",
       "    <tr style=\"text-align: right;\">\n",
       "      <th></th>\n",
       "      <th>Name</th>\n",
       "      <th>Author</th>\n",
       "      <th>User Rating</th>\n",
       "      <th>Reviews</th>\n",
       "      <th>Price</th>\n",
       "      <th>Year</th>\n",
       "      <th>Genre</th>\n",
       "    </tr>\n",
       "  </thead>\n",
       "  <tbody>\n",
       "    <tr>\n",
       "      <th>0</th>\n",
       "      <td>Act Like a Lady, Think Like a Man: What Men Re...</td>\n",
       "      <td>Steve Harvey</td>\n",
       "      <td>4.6</td>\n",
       "      <td>5013</td>\n",
       "      <td>17</td>\n",
       "      <td>2009</td>\n",
       "      <td>Non Fiction</td>\n",
       "    </tr>\n",
       "    <tr>\n",
       "      <th>1</th>\n",
       "      <td>Arguing with Idiots: How to Stop Small Minds a...</td>\n",
       "      <td>Glenn Beck</td>\n",
       "      <td>4.6</td>\n",
       "      <td>798</td>\n",
       "      <td>5</td>\n",
       "      <td>2009</td>\n",
       "      <td>Non Fiction</td>\n",
       "    </tr>\n",
       "    <tr>\n",
       "      <th>2</th>\n",
       "      <td>Breaking Dawn (The Twilight Saga, Book 4)</td>\n",
       "      <td>Stephenie Meyer</td>\n",
       "      <td>4.6</td>\n",
       "      <td>9769</td>\n",
       "      <td>13</td>\n",
       "      <td>2009</td>\n",
       "      <td>Fiction</td>\n",
       "    </tr>\n",
       "    <tr>\n",
       "      <th>3</th>\n",
       "      <td>Crazy Love: Overwhelmed by a Relentless God</td>\n",
       "      <td>Francis Chan</td>\n",
       "      <td>4.7</td>\n",
       "      <td>1542</td>\n",
       "      <td>14</td>\n",
       "      <td>2009</td>\n",
       "      <td>Non Fiction</td>\n",
       "    </tr>\n",
       "    <tr>\n",
       "      <th>4</th>\n",
       "      <td>Dead And Gone: A Sookie Stackhouse Novel (Sook...</td>\n",
       "      <td>Charlaine Harris</td>\n",
       "      <td>4.6</td>\n",
       "      <td>1541</td>\n",
       "      <td>4</td>\n",
       "      <td>2009</td>\n",
       "      <td>Fiction</td>\n",
       "    </tr>\n",
       "    <tr>\n",
       "      <th>...</th>\n",
       "      <td>...</td>\n",
       "      <td>...</td>\n",
       "      <td>...</td>\n",
       "      <td>...</td>\n",
       "      <td>...</td>\n",
       "      <td>...</td>\n",
       "      <td>...</td>\n",
       "    </tr>\n",
       "    <tr>\n",
       "      <th>695</th>\n",
       "      <td>The Wonderful Things You Will Be</td>\n",
       "      <td>Emily Winfield Martin</td>\n",
       "      <td>4.9</td>\n",
       "      <td>20920</td>\n",
       "      <td>9</td>\n",
       "      <td>2022</td>\n",
       "      <td>Fiction</td>\n",
       "    </tr>\n",
       "    <tr>\n",
       "      <th>696</th>\n",
       "      <td>Ugly Love: A Novel</td>\n",
       "      <td>Colleen Hoover</td>\n",
       "      <td>4.7</td>\n",
       "      <td>33929</td>\n",
       "      <td>10</td>\n",
       "      <td>2022</td>\n",
       "      <td>Fiction</td>\n",
       "    </tr>\n",
       "    <tr>\n",
       "      <th>697</th>\n",
       "      <td>Verity</td>\n",
       "      <td>Colleen Hoover</td>\n",
       "      <td>4.6</td>\n",
       "      <td>71826</td>\n",
       "      <td>11</td>\n",
       "      <td>2022</td>\n",
       "      <td>Fiction</td>\n",
       "    </tr>\n",
       "    <tr>\n",
       "      <th>698</th>\n",
       "      <td>What to Expect When You're Expecting</td>\n",
       "      <td>Heidi Murkoff</td>\n",
       "      <td>4.8</td>\n",
       "      <td>27052</td>\n",
       "      <td>13</td>\n",
       "      <td>2022</td>\n",
       "      <td>Non Fiction</td>\n",
       "    </tr>\n",
       "    <tr>\n",
       "      <th>699</th>\n",
       "      <td>Where the Crawdads Sing</td>\n",
       "      <td>Delia Owens</td>\n",
       "      <td>4.8</td>\n",
       "      <td>208917</td>\n",
       "      <td>10</td>\n",
       "      <td>2022</td>\n",
       "      <td>Fiction</td>\n",
       "    </tr>\n",
       "  </tbody>\n",
       "</table>\n",
       "<p>700 rows × 7 columns</p>\n",
       "</div>"
      ],
      "text/plain": [
       "                                                  Name                 Author  \\\n",
       "0    Act Like a Lady, Think Like a Man: What Men Re...           Steve Harvey   \n",
       "1    Arguing with Idiots: How to Stop Small Minds a...             Glenn Beck   \n",
       "2            Breaking Dawn (The Twilight Saga, Book 4)        Stephenie Meyer   \n",
       "3          Crazy Love: Overwhelmed by a Relentless God           Francis Chan   \n",
       "4    Dead And Gone: A Sookie Stackhouse Novel (Sook...       Charlaine Harris   \n",
       "..                                                 ...                    ...   \n",
       "695                   The Wonderful Things You Will Be  Emily Winfield Martin   \n",
       "696                                 Ugly Love: A Novel         Colleen Hoover   \n",
       "697                                             Verity         Colleen Hoover   \n",
       "698               What to Expect When You're Expecting          Heidi Murkoff   \n",
       "699                            Where the Crawdads Sing            Delia Owens   \n",
       "\n",
       "     User Rating  Reviews  Price  Year        Genre  \n",
       "0            4.6     5013     17  2009  Non Fiction  \n",
       "1            4.6      798      5  2009  Non Fiction  \n",
       "2            4.6     9769     13  2009      Fiction  \n",
       "3            4.7     1542     14  2009  Non Fiction  \n",
       "4            4.6     1541      4  2009      Fiction  \n",
       "..           ...      ...    ...   ...          ...  \n",
       "695          4.9    20920      9  2022      Fiction  \n",
       "696          4.7    33929     10  2022      Fiction  \n",
       "697          4.6    71826     11  2022      Fiction  \n",
       "698          4.8    27052     13  2022  Non Fiction  \n",
       "699          4.8   208917     10  2022      Fiction  \n",
       "\n",
       "[700 rows x 7 columns]"
      ]
     },
     "execution_count": 4,
     "metadata": {},
     "output_type": "execute_result"
    }
   ],
   "source": [
    "greatest_books = pd.read_csv(\"book.csv\")\n",
    "greatest_books"
   ]
  },
  {
   "cell_type": "code",
   "execution_count": null,
   "id": "857bb478",
   "metadata": {},
   "outputs": [],
   "source": [
    "# Intro"
   ]
  },
  {
   "cell_type": "code",
   "execution_count": null,
   "id": "dc374147",
   "metadata": {},
   "outputs": [],
   "source": [
    "# hist artinya histogram (bentuknya mau kayak apa)"
   ]
  },
  {
   "cell_type": "code",
   "execution_count": 7,
   "id": "b849aebb",
   "metadata": {},
   "outputs": [
    {
     "data": {
      "text/plain": [
       "0      Non Fiction\n",
       "1      Non Fiction\n",
       "2          Fiction\n",
       "3      Non Fiction\n",
       "4          Fiction\n",
       "          ...     \n",
       "695        Fiction\n",
       "696        Fiction\n",
       "697        Fiction\n",
       "698    Non Fiction\n",
       "699        Fiction\n",
       "Name: Genre, Length: 700, dtype: object"
      ]
     },
     "execution_count": 7,
     "metadata": {},
     "output_type": "execute_result"
    }
   ],
   "source": [
    "popular_genre = greatest_books['Genre']\n",
    "popular_genre"
   ]
  },
  {
   "cell_type": "code",
   "execution_count": 14,
   "id": "30fd5156",
   "metadata": {
    "scrolled": true
   },
   "outputs": [
    {
     "data": {
      "image/png": "[encoded data removed]",
      "text/plain": [
       "<Figure size 640x480 with 1 Axes>"
      ]
     },
     "metadata": {},
     "output_type": "display_data"
    }
   ],
   "source": [
    "plt.hist(popular_genre, bins=4,  edgecolor='red')\n",
    "plt.title(\"Genre of Betsellers Book\")\n",
    "plt.xlabel(\"Genre\")\n",
    "plt.ylabel(\"Count\")\n",
    "plt.show()"
   ]
  },
  {
   "cell_type": "code",
   "execution_count": null,
   "id": "9d9146c2",
   "metadata": {},
   "outputs": [],
   "source": [
    "# Calculating Mean"
   ]
  },
  {
   "cell_type": "code",
   "execution_count": 19,
   "id": "f319064e",
   "metadata": {},
   "outputs": [],
   "source": [
    "total = 0\n",
    "mean_value = 0"
   ]
  },
  {
   "cell_type": "code",
   "execution_count": 20,
   "id": "efe542d2",
   "metadata": {},
   "outputs": [
    {
     "data": {
      "text/plain": [
       "'The sum total is equal to: 0'"
      ]
     },
     "execution_count": 20,
     "metadata": {},
     "output_type": "execute_result"
    }
   ],
   "source": [
    "\"The sum total is equal to: \" + str(total)"
   ]
  },
  {
   "cell_type": "code",
   "execution_count": 21,
   "id": "f584a353",
   "metadata": {},
   "outputs": [
    {
     "data": {
      "text/plain": [
       "'The mean value is equal to: 0'"
      ]
     },
     "execution_count": 21,
     "metadata": {},
     "output_type": "execute_result"
    }
   ],
   "source": [
    "\"The mean value is equal to: \" + str(mean_value)"
   ]
  },
  {
   "cell_type": "code",
   "execution_count": 22,
   "id": "40f6a9d0",
   "metadata": {},
   "outputs": [],
   "source": [
    "total = 5\n",
    "mean_value = 6"
   ]
  },
  {
   "cell_type": "code",
   "execution_count": 23,
   "id": "5e587b4a",
   "metadata": {},
   "outputs": [
    {
     "data": {
      "text/plain": [
       "'The sum total is equal to: 5'"
      ]
     },
     "execution_count": 23,
     "metadata": {},
     "output_type": "execute_result"
    }
   ],
   "source": [
    "\"The sum total is equal to: \" + str(total)"
   ]
  },
  {
   "cell_type": "code",
   "execution_count": 26,
   "id": "cec85aad",
   "metadata": {},
   "outputs": [
    {
     "data": {
      "text/plain": [
       "40.75"
      ]
     },
     "execution_count": 26,
     "metadata": {},
     "output_type": "execute_result"
    }
   ],
   "source": [
    "total = 29 + 49 + 42 + 43 \n",
    "mean_value = total / 4\n",
    "mean_value"
   ]
  },
  {
   "cell_type": "code",
   "execution_count": null,
   "id": "b32bab53",
   "metadata": {},
   "outputs": [],
   "source": [
    "# NumPy Average"
   ]
  },
  {
   "cell_type": "code",
   "execution_count": 31,
   "id": "6753631f",
   "metadata": {},
   "outputs": [
    {
     "data": {
      "text/plain": [
       "'The average prices of the bestseller books,is: 12.7'"
      ]
     },
     "execution_count": 31,
     "metadata": {},
     "output_type": "execute_result"
    }
   ],
   "source": [
    "prices = greatest_books['Price']\n",
    "prices\n",
    "average_prices = np.average(prices)\n",
    "average_prices\n",
    "\"The average prices of the bestseller books,is: \" + str(average_prices)"
   ]
  },
  {
   "cell_type": "code",
   "execution_count": 38,
   "id": "da05c0d0",
   "metadata": {},
   "outputs": [
    {
     "data": {
      "image/png": "[encoded data removed]",
      "text/plain": [
       "<Figure size 640x480 with 1 Axes>"
      ]
     },
     "metadata": {},
     "output_type": "display_data"
    }
   ],
   "source": [
    "plt.axvline(average_prices, color='b', linestyle='solid', linewidth=2, label=\"Mean\")\n",
    "plt.legend()\n",
    "plt.show()"
   ]
  },
  {
   "cell_type": "code",
   "execution_count": null,
   "id": "58515a92",
   "metadata": {},
   "outputs": [],
   "source": []
  }
 ],
 "metadata": {
  "kernelspec": {
   "display_name": "Python 3 (ipykernel)",
   "language": "python",
   "name": "python3"
  },
  "language_info": {
   "codemirror_mode": {
    "name": "ipython",
    "version": 3
   },
   "file_extension": ".py",
   "mimetype": "text/x-python",
   "name": "python",
   "nbconvert_exporter": "python",
   "pygments_lexer": "ipython3",
   "version": "3.9.13"
  }
 },
 "nbformat": 4,
 "nbformat_minor": 5
}
